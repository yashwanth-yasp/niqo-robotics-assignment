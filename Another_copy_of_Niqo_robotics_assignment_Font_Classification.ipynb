{
  "nbformat": 4,
  "nbformat_minor": 0,
  "metadata": {
    "colab": {
      "provenance": [],
      "gpuType": "T4"
    },
    "kernelspec": {
      "name": "python3",
      "display_name": "Python 3"
    },
    "language_info": {
      "name": "python"
    },
    "accelerator": "GPU"
  },
  "cells": [
    {
      "cell_type": "markdown",
      "source": [
        "# Niqo Robotics Assignment\n",
        "## Font Classification\n",
        "\n",
        "### Author: Yashwanth A Doddegowda\n",
        "\n",
        "This is the first part of the two part assignment, this part focuses on building a font classification model that would localize the text and classify the font in the text.\n",
        "\n",
        "Training isn't provided. So I will also be generating the data required to train the model.\n",
        "\n",
        "Usage of pre-trained modles are restricted. So, I will be using a customm model for this application."
      ],
      "metadata": {
        "id": "euvxykQ81d7_"
      }
    },
    {
      "cell_type": "code",
      "source": [
        "#installing necessary libraries\n",
        "\n",
        "!pip install pillow opencv-python numpy"
      ],
      "metadata": {
        "id": "_2NDwTJa2X89",
        "colab": {
          "base_uri": "https://localhost:8080/"
        },
        "outputId": "c2b7dd3c-e207-4514-8911-7489619354e6"
      },
      "execution_count": null,
      "outputs": [
        {
          "output_type": "stream",
          "name": "stdout",
          "text": [
            "Requirement already satisfied: pillow in /usr/local/lib/python3.10/dist-packages (9.4.0)\n",
            "Requirement already satisfied: opencv-python in /usr/local/lib/python3.10/dist-packages (4.10.0.84)\n",
            "Requirement already satisfied: numpy in /usr/local/lib/python3.10/dist-packages (1.26.4)\n"
          ]
        }
      ]
    },
    {
      "cell_type": "markdown",
      "source": [
        "# 01. Data Generation\n",
        "\n",
        "In this section of the code, I will be generating the images required to train the model. As given in the assignment I should focusing on many aspects to ensure that the training data is proper.\n",
        "\n",
        "- I would need data of images with single font and images with multiple text with different fonts all with varying sizes.\n",
        "- I would also need to annotate such data as I will be required to draw bounding boxes aroound the text\n",
        "- The followiing section details on all these aspects"
      ],
      "metadata": {
        "id": "Ycgpa3MJ3jF-"
      }
    },
    {
      "cell_type": "code",
      "source": [
        "# prompt: mount google drive\n",
        "\n",
        "from google.colab import drive\n",
        "drive.mount('/content/drive')\n"
      ],
      "metadata": {
        "colab": {
          "base_uri": "https://localhost:8080/"
        },
        "id": "VDpTntYVy9Zu",
        "outputId": "df039565-5a3e-4d05-cef2-2c5b29fd1f8e"
      },
      "execution_count": null,
      "outputs": [
        {
          "output_type": "stream",
          "name": "stdout",
          "text": [
            "Mounted at /content/drive\n"
          ]
        }
      ]
    },
    {
      "cell_type": "code",
      "source": [
        "#importing the necessary libraries\n",
        "\n",
        "from PIL import Image, ImageDraw, ImageFont\n",
        "import requests\n",
        "import os\n",
        "import zipfile"
      ],
      "metadata": {
        "id": "hlvkryvn23lu"
      },
      "execution_count": null,
      "outputs": []
    },
    {
      "cell_type": "markdown",
      "source": [
        "- It turns out that automating the install of the fonts from google fonts is not possible as google doesn't have a formatted download url for each font\n",
        "- The only two ways we can dowload now is either manually installing it and placing it in the directories or downloading the Google Fonts API to get the CSS of the fonts and use the links mentioned in the css.\n",
        "- I am using hte second method, so that the code can be run in a new system as long as they oepn the collab notebook"
      ],
      "metadata": {
        "id": "cwFlNGat8gcG"
      }
    },
    {
      "cell_type": "code",
      "source": [
        "import re\n",
        "\n",
        "# List of font names\n",
        "fonts = [\n",
        "    \"Oswald\", \"Roboto\", \"Open+Sans\", \"Ubuntu\", \"PT+Serif\",\n",
        "    \"Dancing+Script\", \"Fredoka+One\", \"Arimo\", \"Noto+Sans\", \"Patua+One\"\n",
        "]\n",
        "\n",
        "\n",
        "def download_font(font_name):\n",
        "    print(f\"Downloading {font_name}...\")\n",
        "    css_url = f\"https://fonts.googleapis.com/css?family={font_name}\"\n",
        "    css_response = requests.get(css_url)\n",
        "\n",
        "    if css_response.status_code != 200:\n",
        "        print(f\"Failed to get CSS for {font_name}. Status code: {css_response.status_code}\")\n",
        "        return\n",
        "\n",
        "    font_urls = re.findall(r'url\\((https:\\/\\/.*?\\.ttf)\\)', css_response.text)\n",
        "\n",
        "    if not font_urls:\n",
        "        print(f\"No font URLs found for {font_name}\")\n",
        "        return\n",
        "\n",
        "    os.makedirs(font_name, exist_ok=True)\n",
        "\n",
        "    for i, url in enumerate(font_urls):\n",
        "        font_response = requests.get(url)\n",
        "        if font_response.status_code == 200:\n",
        "            filename = f\"{font_name}_{i+1}.ttf\"\n",
        "            with open(os.path.join(font_name, filename), 'wb') as f:\n",
        "                f.write(font_response.content)\n",
        "            print(f\"Downloaded {filename}\")\n",
        "        else:\n",
        "            print(f\"Failed to download a font file for {font_name}. Status code: {font_response.status_code}\")\n",
        "\n",
        "    print(f\"Finished downloading {font_name}\")\n",
        "\n",
        "for font in fonts:\n",
        "    download_font(font)\n",
        "\n",
        "print(\"All fonts have been downloaded.\")"
      ],
      "metadata": {
        "colab": {
          "base_uri": "https://localhost:8080/"
        },
        "id": "P7vaeGUL42pK",
        "outputId": "f30d2df8-6afb-4095-f613-f3af766ae3b8"
      },
      "execution_count": null,
      "outputs": [
        {
          "output_type": "stream",
          "name": "stdout",
          "text": [
            "Downloading Oswald...\n",
            "Downloaded Oswald_1.ttf\n",
            "Finished downloading Oswald\n",
            "Downloading Roboto...\n",
            "Downloaded Roboto_1.ttf\n",
            "Finished downloading Roboto\n",
            "Downloading Open+Sans...\n",
            "Downloaded Open+Sans_1.ttf\n",
            "Finished downloading Open+Sans\n",
            "Downloading Ubuntu...\n",
            "Downloaded Ubuntu_1.ttf\n",
            "Finished downloading Ubuntu\n",
            "Downloading PT+Serif...\n",
            "Downloaded PT+Serif_1.ttf\n",
            "Finished downloading PT+Serif\n",
            "Downloading Dancing+Script...\n",
            "Downloaded Dancing+Script_1.ttf\n",
            "Finished downloading Dancing+Script\n",
            "Downloading Fredoka+One...\n",
            "Downloaded Fredoka+One_1.ttf\n",
            "Finished downloading Fredoka+One\n",
            "Downloading Arimo...\n",
            "Downloaded Arimo_1.ttf\n",
            "Finished downloading Arimo\n",
            "Downloading Noto+Sans...\n",
            "Downloaded Noto+Sans_1.ttf\n",
            "Finished downloading Noto+Sans\n",
            "Downloading Patua+One...\n",
            "Downloaded Patua+One_1.ttf\n",
            "Finished downloading Patua+One\n",
            "All fonts have been downloaded.\n"
          ]
        }
      ]
    },
    {
      "cell_type": "code",
      "source": [
        "# creating the list of font paths\n",
        "\n",
        "main_dir = '/content'\n",
        "\n",
        "font_paths = []\n",
        "for root, dirs, files in os.walk(main_dir):\n",
        "    for file in files:\n",
        "        if file.endswith('.ttf'):\n",
        "            font_paths.append(os.path.join(root, file))\n",
        "\n",
        "print(f'Found {len(font_paths)} fonts.')\n",
        "\n",
        "print(font_paths)\n"
      ],
      "metadata": {
        "colab": {
          "base_uri": "https://localhost:8080/"
        },
        "id": "btp0o4HE5NAW",
        "outputId": "55f6244c-4d7e-45c0-bca6-4d1f03509400"
      },
      "execution_count": null,
      "outputs": [
        {
          "output_type": "stream",
          "name": "stdout",
          "text": [
            "Found 10 fonts.\n",
            "['/content/Dancing+Script/Dancing+Script_1.ttf', '/content/Oswald/Oswald_1.ttf', '/content/Open+Sans/Open+Sans_1.ttf', '/content/Ubuntu/Ubuntu_1.ttf', '/content/Roboto/Roboto_1.ttf', '/content/Arimo/Arimo_1.ttf', '/content/Fredoka+One/Fredoka+One_1.ttf', '/content/Patua+One/Patua+One_1.ttf', '/content/Noto+Sans/Noto+Sans_1.ttf', '/content/PT+Serif/PT+Serif_1.ttf']\n"
          ]
        }
      ]
    },
    {
      "cell_type": "markdown",
      "source": [
        "- The following section does the data generation of different fonts, with randomized font sizes"
      ],
      "metadata": {
        "id": "ZHav0eZD-SdU"
      }
    },
    {
      "cell_type": "code",
      "source": [
        "import cv2\n",
        "import numpy as np\n",
        "from PIL import Image, ImageDraw, ImageFont\n",
        "import os\n",
        "import random\n",
        "\n",
        "def generate_dataset(num_images, output_dir, font_paths):\n",
        "    os.makedirs(output_dir, exist_ok=True)\n",
        "    os.makedirs(os.path.join(output_dir, 'images'), exist_ok=True)\n",
        "    os.makedirs(os.path.join(output_dir, 'labels'), exist_ok=True)\n",
        "\n",
        "    phrase = \"Hello, World!\"\n",
        "    image_paths = []\n",
        "    font_names = []\n",
        "\n",
        "    for i in range(num_images):\n",
        "        image_size = (320, 320)\n",
        "        image = Image.new('RGB', image_size, color='white')\n",
        "        draw = ImageDraw.Draw(image)\n",
        "\n",
        "        font_path = random.choice(font_paths)\n",
        "        font_size = random.randint(20, 40)\n",
        "        font = ImageFont.truetype(font_path, font_size)\n",
        "\n",
        "        text_width, text_height = draw.textsize(phrase, font=font)\n",
        "        x = random.randint(0, image_size[0] - text_width)\n",
        "        y = random.randint(0, image_size[1] - text_height)\n",
        "\n",
        "        draw.text((x, y), phrase, font=font, fill='black')\n",
        "\n",
        "        label = [x/image_size[0], y/image_size[1],\n",
        "                 (x + text_width)/image_size[0], (y + text_height)/image_size[1]]\n",
        "\n",
        "        image_path = os.path.join(output_dir, 'images', f'image_{i}.jpg')\n",
        "        label_path = os.path.join(output_dir, 'labels', f'image_{i}.txt')\n",
        "\n",
        "        image.save(image_path)\n",
        "        np.savetxt(label_path, label, fmt='%.6f')\n",
        "\n",
        "        image_paths.append(image_path)\n",
        "        font_names.append(os.path.basename(font_path))\n",
        "\n",
        "    print(f\"Generated {num_images} images and labels.\")\n",
        "    return image_paths, font_names\n",
        "\n",
        "image_paths, font_names = generate_dataset(5000, 'hello_world_dataset', font_paths)\n",
        "\n",
        "for img_path, font_name in zip(image_paths[:10], font_names[:10]):\n",
        "    print(f\"Image: {img_path}, Font: {font_name}\")\n"
      ],
      "metadata": {
        "id": "EiZQLPL3iaHO"
      },
      "execution_count": null,
      "outputs": []
    },
    {
      "cell_type": "markdown",
      "source": [
        "# 02. Training the Font Detection Model\n",
        "\n",
        "As mentioned in the presentation we will be using the EAST model for font localization and TCR encode and fully connected neural network for the decoding and classification in the last stage"
      ],
      "metadata": {
        "id": "UCXh1OgxorMi"
      }
    },
    {
      "cell_type": "code",
      "source": [
        "import torch\n",
        "import torch.nn as nn\n",
        "import torch.optim as optim\n",
        "from transformers import VisionEncoderDecoderModel, ViTFeatureExtractor\n",
        "from torch.utils.data import DataLoader, Dataset\n",
        "from torchvision import transforms\n",
        "from PIL import Image\n",
        "\n",
        "class FontDataset(Dataset):\n",
        "    def __init__(self, image_paths, font_labels, feature_extractor):\n",
        "        self.image_paths = image_paths\n",
        "        self.font_labels = font_labels\n",
        "        self.feature_extractor = feature_extractor\n",
        "\n",
        "    def __len__(self):\n",
        "        return len(self.image_paths)\n",
        "\n",
        "    def __getitem__(self, idx):\n",
        "        image = Image.open(self.image_paths[idx]).convert(\"RGB\")\n",
        "        inputs = self.feature_extractor(images=image, return_tensors=\"pt\")\n",
        "        inputs['pixel_values'] = inputs['pixel_values'].squeeze(0)\n",
        "        label = self.font_labels[idx]\n",
        "        return inputs['pixel_values'], label\n",
        "\n",
        "class VisionEncoderFontClassifier(nn.Module):\n",
        "    def __init__(self, num_fonts):\n",
        "        super(VisionEncoderFontClassifier, self).__init__()\n",
        "        self.encoder_decoder = VisionEncoderDecoderModel.from_pretrained(\"microsoft/trocr-base-handwritten\")\n",
        "        self.encoder = self.encoder_decoder.encoder\n",
        "        self.fc = nn.Linear(self.encoder.config.hidden_size, num_fonts)\n",
        "\n",
        "    def forward(self, pixel_values):\n",
        "        encoder_outputs = self.encoder(pixel_values=pixel_values).last_hidden_state\n",
        "        pooled_output = encoder_outputs[:, 0, :]\n",
        "        font_logits = self.fc(pooled_output)\n",
        "\n",
        "        return font_logits\n",
        "\n",
        "feature_extractor = ViTFeatureExtractor.from_pretrained(\"microsoft/trocr-base-handwritten\")\n",
        "\n",
        "\n",
        "#testing the model\n",
        "\n",
        "num_fonts = 10\n",
        "model = VisionEncoderFontClassifier(num_fonts)\n",
        "pixel_values = torch.randn(1, 3, 320, 320)\n",
        "\n",
        "resize = transforms.Resize((384, 384))\n",
        "pixel_values = resize(pixel_values)\n",
        "font_logits = model(pixel_values)\n",
        "font_class = font_logits.argmax().item()\n",
        "print(f\"Predicted font class: {font_class}\")\n",
        "\n",
        "\n",
        "#training the model\n",
        "\n",
        "\n",
        "model.train()\n",
        "\n",
        "# Optimizer and loss function\n",
        "optimizer = optim.Adam(model.parameters(), lr=2e-5)\n",
        "criterion = nn.CrossEntropyLoss()\n",
        "\n",
        "\n",
        "train_dataset = FontDataset(image_paths,\n",
        "                            font_names,\n",
        "                            feature_extractor=feature_extractor)\n",
        "\n",
        "train_loader = DataLoader(train_dataset, batch_size=8, shuffle=True)\n",
        "\n",
        "num_epochs = 5\n",
        "device = torch.device(\"cuda\" if torch.cuda.is_available() else \"cpu\")\n",
        "model.to(device)\n",
        "\n",
        "for epoch in range(num_epochs):\n",
        "    total_loss = 0\n",
        "    correct_predictions = 0\n",
        "    total_samples = 0\n",
        "\n",
        "    for pixel_values, labels in train_loader:\n",
        "        pixel_values = pixel_values.to(device)\n",
        "        labels = labels.to(device)\n",
        "\n",
        "        # Forward pass\n",
        "        optimizer.zero_grad()\n",
        "        outputs = model(pixel_values)\n",
        "\n",
        "        # Compute the loss\n",
        "        loss = criterion(outputs, labels)\n",
        "\n",
        "        # Backward pass and optimization\n",
        "        loss.backward()\n",
        "        optimizer.step()\n",
        "\n",
        "        # Accumulate loss and accuracy\n",
        "        total_loss += loss.item()\n",
        "        _, preds = torch.max(outputs, 1)\n",
        "        correct_predictions += (preds == labels).sum().item()\n",
        "        total_samples += labels.size(0)\n",
        "\n",
        "    # Print epoch stats\n",
        "    avg_loss = total_loss / len(train_loader)\n",
        "    accuracy = correct_predictions / total_samples\n",
        "    print(f\"Epoch [{epoch+1}/{num_epochs}], Loss: {avg_loss:.4f}, Accuracy: {accuracy:.4f}\")\n",
        "\n",
        "print(\"Training Complete!\")\n"
      ],
      "metadata": {
        "id": "Ud33py3JhNC3"
      },
      "execution_count": null,
      "outputs": []
    },
    {
      "cell_type": "code",
      "source": [
        "import cv2\n",
        "import numpy as np\n",
        "from google.colab.patches import cv2_imshow\n",
        "\n",
        "def decode_predictions(scores, geometry, min_confidence):\n",
        "    (num_rows, num_cols) = scores.shape[2:4]\n",
        "    rects = []\n",
        "    confidences = []\n",
        "\n",
        "    for y in range(num_rows):\n",
        "        scores_data = scores[0, 0, y]\n",
        "        x_data_0 = geometry[0, 0, y]\n",
        "        x_data_1 = geometry[0, 1, y]\n",
        "        x_data_2 = geometry[0, 2, y]\n",
        "        x_data_3 = geometry[0, 3, y]\n",
        "        angles_data = geometry[0, 4, y]\n",
        "\n",
        "        for x in range(num_cols):\n",
        "            if scores_data[x] < min_confidence:\n",
        "                continue\n",
        "            (offset_x, offset_y) = (x * 4.0, y * 4.0)\n",
        "\n",
        "            angle = angles_data[x]\n",
        "            cos = np.cos(angle)\n",
        "            sin = np.sin(angle)\n",
        "\n",
        "            h = x_data_0[x] + x_data_2[x]\n",
        "            w = x_data_1[x] + x_data_3[x]\n",
        "\n",
        "\n",
        "            end_x = int(offset_x + (cos * x_data_1[x]) + (sin * x_data_2[x]))\n",
        "            end_y = int(offset_y - (sin * x_data_1[x]) + (cos * x_data_2[x]))\n",
        "            start_x = int(end_x - w)\n",
        "            start_y = int(end_y - h)\n",
        "\n",
        "            rects.append((start_x, start_y, end_x, end_y))\n",
        "            confidences.append(scores_data[x])\n",
        "\n",
        "    return (rects, confidences)\n",
        "\n",
        "def non_max_suppression(boxes, probs=None, overlap_thresh=0.3):\n",
        "    if len(boxes) == 0:\n",
        "        return []\n",
        "\n",
        "    if boxes.dtype.kind == \"i\":\n",
        "        boxes = boxes.astype(\"float\")\n",
        "\n",
        "    pick = []\n",
        "    x1 = boxes[:, 0]\n",
        "    y1 = boxes[:, 1]\n",
        "    x2 = boxes[:, 2]\n",
        "    y2 = boxes[:, 3]\n",
        "\n",
        "    area = (x2 - x1 + 1) * (y2 - y1 + 1)\n",
        "    idxs = y2 if probs is None else probs\n",
        "\n",
        "    idxs = np.argsort(idxs)\n",
        "\n",
        "    while len(idxs) > 0:\n",
        "        last = len(idxs) - 1\n",
        "        i = idxs[last]\n",
        "        pick.append(i)\n",
        "\n",
        "        xx1 = np.maximum(x1[i], x1[idxs[:last]])\n",
        "        yy1 = np.maximum(y1[i], y1[idxs[:last]])\n",
        "        xx2 = np.minimum(x2[i], x2[idxs[:last]])\n",
        "        yy2 = np.minimum(y2[i], y2[idxs[:last]])\n",
        "\n",
        "        w = np.maximum(0, xx2 - xx1 + 1)\n",
        "        h = np.maximum(0, yy2 - yy1 + 1)\n",
        "\n",
        "        overlap = (w * h) / area[idxs[:last]]\n",
        "\n",
        "        idxs = np.delete(idxs, np.concatenate(([last], np.where(overlap > overlap_thresh)[0])))\n",
        "\n",
        "    return boxes[pick].astype(\"int\")\n",
        "\n",
        "def detect_text(img, frozen_east_model_path):\n",
        "    image = cv2.imread(img)\n",
        "    orig = image.copy()\n",
        "    (H, W) = image.shape[:2]\n",
        "\n",
        "    new_w = (W // 32) * 32\n",
        "    new_h = (H // 32) * 32\n",
        "    rW = W / float(new_w)\n",
        "    rH = H / float(new_h)\n",
        "\n",
        "    image = cv2.resize(image, (new_w, new_h))\n",
        "\n",
        "    net = cv2.dnn.readNet(frozen_east_model_path)\n",
        "    blob = cv2.dnn.blobFromImage(image, 1.0, (new_w, new_h),\n",
        "                                (123.68, 116.78, 103.94), swapRB=True, crop=False)\n",
        "\n",
        "    net.setInput(blob)\n",
        "    (scores, geometry) = net.forward([\"feature_fusion/Conv_7/Sigmoid\", \"feature_fusion/concat_3\"])\n",
        "\n",
        "    (rects, confidences) = decode_predictions(scores, geometry, min_confidence=0.5)\n",
        "    boxes = non_max_suppression(np.array(rects), probs=np.array(confidences))\n",
        "\n",
        "\n",
        "    for (startX, startY, endX, endY) in boxes:\n",
        "        startX = int(startX * rW)\n",
        "        startY = int(startY * rH)\n",
        "        endX = int(endX * rW)\n",
        "        endY = int(endY * rH)\n",
        "    cv2.rectangle(orig, (startX, startY), (endX, endY), (0, 255, 0), 2)\n",
        "    cv2_imshow(orig)\n",
        "    cv2.waitKey(0)\n",
        "    cv2.destroyAllWindows()\n",
        "\n",
        "    return crop_text_regions(image, boxes)\n",
        "\n",
        "def crop_text_regions(image, bboxes):\n",
        "    crops = []\n",
        "    for (startX, startY, endX, endY) in bboxes:\n",
        "        crop = image[startY:endY, startX:endX]\n",
        "        crops.append(crop)\n",
        "    return crops\n",
        "\n"
      ],
      "metadata": {
        "id": "wgdBQcV61mmo"
      },
      "execution_count": null,
      "outputs": []
    },
    {
      "cell_type": "code",
      "source": [
        "def classify_fonts(crops, model, device):\n",
        "    model.to(device)\n",
        "    model.eval()\n",
        "    font_classes = []\n",
        "    transform = transforms.Resize((384, 384))\n",
        "\n",
        "    with torch.no_grad():\n",
        "        for crop in crops:\n",
        "            crop_image = Image.fromarray(crop)\n",
        "            inputs = feature_extractor(images=crop_image, return_tensors=\"pt\")\n",
        "            inputs['pixel_values'] = inputs['pixel_values'].to(device)\n",
        "\n",
        "            outputs = model(inputs['pixel_values'])\n",
        "            predicted_font_class = outputs.argmax().item()\n",
        "            font_classes.append(predicted_font_class)\n",
        "\n",
        "    return font_classes"
      ],
      "metadata": {
        "id": "3_m3qvsq18MC"
      },
      "execution_count": null,
      "outputs": []
    },
    {
      "cell_type": "code",
      "source": [
        "from PIL import Image, ImageDraw, ImageFont\n",
        "import random\n",
        "import os\n",
        "\n",
        "def generate_test_image(font_paths, output_image_path, image_size=(320, 320), num_texts=4):\n",
        "    image = Image.new('RGB', image_size, color='white')\n",
        "    draw = ImageDraw.Draw(image)\n",
        "\n",
        "    sample_texts = [\"Hello, World!\"]\n",
        "\n",
        "\n",
        "    occupied_areas = []\n",
        "\n",
        "    def text_fits(x, y, width, height):\n",
        "        if x < 0 or y < 0 or x + width > image_size[0] or y + height > image_size[1]:\n",
        "            return False\n",
        "\n",
        "        for (ox, oy, ow, oh) in occupied_areas:\n",
        "            if not (x + width < ox or x > ox + ow or y + height < oy or y > oy + oh):\n",
        "                return False\n",
        "\n",
        "        return True\n",
        "\n",
        "    def add_text(text, font):\n",
        "        text_width, text_height = draw.textsize(text, font=font)\n",
        "        attempts = 0\n",
        "        max_attempts = 100\n",
        "\n",
        "        while attempts < max_attempts:\n",
        "            x = random.randint(0, image_size[0] - text_width)\n",
        "            y = random.randint(0, image_size[1] - text_height)\n",
        "\n",
        "            if text_fits(x, y, text_width, text_height):\n",
        "                draw.text((x, y), text, font=font, fill='black')\n",
        "                occupied_areas.append((x, y, text_width, text_height))\n",
        "                return True\n",
        "            attempts += 1\n",
        "\n",
        "        return False\n",
        "\n",
        "    for _ in range(num_texts):\n",
        "        text = random.choice(sample_texts)\n",
        "        font_path = random.choice(font_paths)\n",
        "        font_size = random.randint(20, 40)\n",
        "        font = ImageFont.truetype(font_path, font_size)\n",
        "\n",
        "        if not add_text(text, font):\n",
        "            print(f\"Failed to place text: '{text}' with font size {font_size}\")\n",
        "\n",
        "    image.save(output_image_path)\n",
        "    print(f\"Image saved at {output_image_path}\")\n",
        "\n",
        "\n",
        "output_image_path = 'test_image_with_multiple_fonts4.jpg'\n",
        "generate_test_image(font_paths, output_image_path)\n"
      ],
      "metadata": {
        "colab": {
          "base_uri": "https://localhost:8080/"
        },
        "id": "XL2dNr8d8zR7",
        "outputId": "ba06170b-44c1-4e79-fdd2-bff8e710dffd"
      },
      "execution_count": null,
      "outputs": [
        {
          "output_type": "stream",
          "name": "stdout",
          "text": [
            "Image saved at test_image_with_multiple_fonts4.jpg\n"
          ]
        },
        {
          "output_type": "stream",
          "name": "stderr",
          "text": [
            "<ipython-input-36-7ef21b23004c>:29: DeprecationWarning: textsize is deprecated and will be removed in Pillow 10 (2023-07-01). Use textbbox or textlength instead.\n",
            "  text_width, text_height = draw.textsize(text, font=font)\n",
            "<ipython-input-36-7ef21b23004c>:29: DeprecationWarning: textsize is deprecated and will be removed in Pillow 10 (2023-07-01). Use textbbox or textlength instead.\n",
            "  text_width, text_height = draw.textsize(text, font=font)\n",
            "<ipython-input-36-7ef21b23004c>:29: DeprecationWarning: textsize is deprecated and will be removed in Pillow 10 (2023-07-01). Use textbbox or textlength instead.\n",
            "  text_width, text_height = draw.textsize(text, font=font)\n",
            "<ipython-input-36-7ef21b23004c>:29: DeprecationWarning: textsize is deprecated and will be removed in Pillow 10 (2023-07-01). Use textbbox or textlength instead.\n",
            "  text_width, text_height = draw.textsize(text, font=font)\n"
          ]
        }
      ]
    },
    {
      "cell_type": "code",
      "source": [
        "\n",
        "from transformers import TrOCRProcessor\n",
        "trocr_processor = TrOCRProcessor.from_pretrained(\"microsoft/trocr-base-handwritten\")\n",
        "\n",
        "\n",
        "east_model_path = \"frozen_east_text_detection.pb\"\n",
        "device = torch.device(\"cuda\" if torch.cuda.is_available() else \"cpu\")\n",
        "image_path = \"/content/test_image_with_multiple_fonts4.jpg\"\n",
        "\n",
        "\n",
        "crops = detect_text(image_path, east_model_path)\n",
        "\n",
        "trained_model = torch.load('/content/drive/MyDrive/tcr_ocr_font_classification_model.pth', map_location ='cpu')\n",
        "trained_model.to(device)\n",
        "trained_model.eval()\n",
        "\n",
        "for image in crops:\n",
        "  cv2_imshow(image)\n",
        "  inputs = trocr_processor(images=image, return_tensors=\"pt\")\n",
        "  inputs['pixel_values'] = inputs['pixel_values'].to(device)\n",
        "  outputs = trained_model(inputs['pixel_values'])\n",
        "  print(outputs.argmax().item())\n",
        "\n"
      ],
      "metadata": {
        "colab": {
          "base_uri": "https://localhost:8080/",
          "height": 661
        },
        "id": "a_eTqMML2BHs",
        "outputId": "8299f119-3750-4255-fe7c-b554330cf45e"
      },
      "execution_count": null,
      "outputs": [
        {
          "output_type": "display_data",
          "data": {
            "text/plain": [
              "<PIL.Image.Image image mode=RGB size=320x320>"
            ],
            "image/png": "[encoded data removed]"
          },
          "metadata": {}
        },
        {
          "output_type": "display_data",
          "data": {
            "text/plain": [
              "<PIL.Image.Image image mode=RGB size=85x28>"
            ],
            "image/png": "[encoded data removed]"
          },
          "metadata": {}
        },
        {
          "output_type": "stream",
          "name": "stdout",
          "text": [
            "3\n"
          ]
        },
        {
          "output_type": "display_data",
          "data": {
            "text/plain": [
              "<PIL.Image.Image image mode=RGB size=106x28>"
            ],
            "image/png": "[encoded data removed]"
          },
          "metadata": {}
        },
        {
          "output_type": "stream",
          "name": "stdout",
          "text": [
            "3\n"
          ]
        },
        {
          "output_type": "display_data",
          "data": {
            "text/plain": [
              "<PIL.Image.Image image mode=RGB size=66x18>"
            ],
            "image/png": "[encoded data removed]"
          },
          "metadata": {}
        },
        {
          "output_type": "stream",
          "name": "stdout",
          "text": [
            "3\n"
          ]
        },
        {
          "output_type": "display_data",
          "data": {
            "text/plain": [
              "<PIL.Image.Image image mode=RGB size=80x23>"
            ],
            "image/png": "[encoded data removed]"
          },
          "metadata": {}
        },
        {
          "output_type": "stream",
          "name": "stdout",
          "text": [
            "3\n"
          ]
        },
        {
          "output_type": "display_data",
          "data": {
            "text/plain": [
              "<PIL.Image.Image image mode=RGB size=63x19>"
            ],
            "image/png": "[encoded data removed]"
          },
          "metadata": {}
        },
        {
          "output_type": "stream",
          "name": "stdout",
          "text": [
            "3\n"
          ]
        },
        {
          "output_type": "display_data",
          "data": {
            "text/plain": [
              "<PIL.Image.Image image mode=RGB size=68x21>"
            ],
            "image/png": "[encoded data removed]"
          },
          "metadata": {}
        },
        {
          "output_type": "stream",
          "name": "stdout",
          "text": [
            "3\n"
          ]
        },
        {
          "output_type": "display_data",
          "data": {
            "text/plain": [
              "<PIL.Image.Image image mode=RGB size=88x24>"
            ],
            "image/png": "[encoded data removed]"
          },
          "metadata": {}
        },
        {
          "output_type": "stream",
          "name": "stdout",
          "text": [
            "3\n"
          ]
        },
        {
          "output_type": "display_data",
          "data": {
            "text/plain": [
              "<PIL.Image.Image image mode=RGB size=72x24>"
            ],
            "image/png": "[encoded data removed]"
          },
          "metadata": {}
        },
        {
          "output_type": "stream",
          "name": "stdout",
          "text": [
            "3\n"
          ]
        }
      ]
    },
    {
      "cell_type": "code",
      "source": [
        "image_path = \"/content/image_0.jpg\"\n",
        "image = cv2.imread(image_path)\n",
        "cv2_imshow(image)\n",
        "inputs = trocr_processor(images=image, return_tensors=\"pt\")\n",
        "inputs['pixel_values'] = inputs['pixel_values'].to(device)\n",
        "outputs = trained_model(inputs['pixel_values'])\n",
        "print(outputs)"
      ],
      "metadata": {
        "colab": {
          "base_uri": "https://localhost:8080/",
          "height": 372
        },
        "id": "dFGxyef5_V0Z",
        "outputId": "2901885a-3a5f-488c-d416-381ffa5550f6"
      },
      "execution_count": null,
      "outputs": [
        {
          "output_type": "display_data",
          "data": {
            "text/plain": [
              "<PIL.Image.Image image mode=RGB size=320x320>"
            ],
            "image/png": "[encoded data removed]"
          },
          "metadata": {}
        },
        {
          "output_type": "stream",
          "name": "stdout",
          "text": [
            "tensor([[-0.5313, -1.6624, -0.7177,  6.2078, -2.0525,  1.1578, -0.5623, -1.7487,\n",
            "         -0.9287, -0.1421]], grad_fn=<AddmmBackward0>)\n"
          ]
        }
      ]
    },
    {
      "cell_type": "code",
      "source": [],
      "metadata": {
        "colab": {
          "base_uri": "https://localhost:8080/",
          "height": 439
        },
        "id": "fV4ESr9gnmMR",
        "outputId": "e7db2938-27e3-40ab-d862-af12b6ae6e91"
      },
      "execution_count": null,
      "outputs": [
        {
          "output_type": "stream",
          "name": "stderr",
          "text": [
            "Some weights of VisionEncoderDecoderModel were not initialized from the model checkpoint at microsoft/trocr-base-handwritten and are newly initialized: ['encoder.pooler.dense.bias', 'encoder.pooler.dense.weight']\n",
            "You should probably TRAIN this model on a down-stream task to be able to use it for predictions and inference.\n"
          ]
        },
        {
          "output_type": "error",
          "ename": "TypeError",
          "evalue": "Expected state_dict to be dict-like, got <class '__main__.VisionEncoderFontClassifier'>.",
          "traceback": [
            "\u001b[0;31m---------------------------------------------------------------------------\u001b[0m",
            "\u001b[0;31mTypeError\u001b[0m                                 Traceback (most recent call last)",
            "\u001b[0;32m<ipython-input-7-08a5246fa510>\u001b[0m in \u001b[0;36m<cell line: 103>\u001b[0;34m()\u001b[0m\n\u001b[1;32m    101\u001b[0m \u001b[0;34m\u001b[0m\u001b[0m\n\u001b[1;32m    102\u001b[0m \u001b[0;31m# Load the state dictionary into the model\u001b[0m\u001b[0;34m\u001b[0m\u001b[0;34m\u001b[0m\u001b[0m\n\u001b[0;32m--> 103\u001b[0;31m \u001b[0mfont_model\u001b[0m\u001b[0;34m.\u001b[0m\u001b[0mload_state_dict\u001b[0m\u001b[0;34m(\u001b[0m\u001b[0mstate_dict\u001b[0m\u001b[0;34m)\u001b[0m\u001b[0;34m\u001b[0m\u001b[0;34m\u001b[0m\u001b[0m\n\u001b[0m\u001b[1;32m    104\u001b[0m \u001b[0;34m\u001b[0m\u001b[0m\n\u001b[1;32m    105\u001b[0m \u001b[0;31m# Feature extractor for the font model\u001b[0m\u001b[0;34m\u001b[0m\u001b[0;34m\u001b[0m\u001b[0m\n",
            "\u001b[0;32m/usr/local/lib/python3.10/dist-packages/torch/nn/modules/module.py\u001b[0m in \u001b[0;36mload_state_dict\u001b[0;34m(self, state_dict, strict, assign)\u001b[0m\n\u001b[1;32m   2138\u001b[0m         \"\"\"\n\u001b[1;32m   2139\u001b[0m         \u001b[0;32mif\u001b[0m \u001b[0;32mnot\u001b[0m \u001b[0misinstance\u001b[0m\u001b[0;34m(\u001b[0m\u001b[0mstate_dict\u001b[0m\u001b[0;34m,\u001b[0m \u001b[0mMapping\u001b[0m\u001b[0;34m)\u001b[0m\u001b[0;34m:\u001b[0m\u001b[0;34m\u001b[0m\u001b[0;34m\u001b[0m\u001b[0m\n\u001b[0;32m-> 2140\u001b[0;31m             \u001b[0;32mraise\u001b[0m \u001b[0mTypeError\u001b[0m\u001b[0;34m(\u001b[0m\u001b[0;34mf\"Expected state_dict to be dict-like, got {type(state_dict)}.\"\u001b[0m\u001b[0;34m)\u001b[0m\u001b[0;34m\u001b[0m\u001b[0;34m\u001b[0m\u001b[0m\n\u001b[0m\u001b[1;32m   2141\u001b[0m \u001b[0;34m\u001b[0m\u001b[0m\n\u001b[1;32m   2142\u001b[0m         \u001b[0mmissing_keys\u001b[0m\u001b[0;34m:\u001b[0m \u001b[0mList\u001b[0m\u001b[0;34m[\u001b[0m\u001b[0mstr\u001b[0m\u001b[0;34m]\u001b[0m \u001b[0;34m=\u001b[0m \u001b[0;34m[\u001b[0m\u001b[0;34m]\u001b[0m\u001b[0;34m\u001b[0m\u001b[0;34m\u001b[0m\u001b[0m\n",
            "\u001b[0;31mTypeError\u001b[0m: Expected state_dict to be dict-like, got <class '__main__.VisionEncoderFontClassifier'>."
          ]
        }
      ]
    },
    {
      "cell_type": "code",
      "source": [],
      "metadata": {
        "id": "pIyiZGKirn14"
      },
      "execution_count": null,
      "outputs": []
    }
  ]
}